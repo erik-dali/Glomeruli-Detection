{
 "cells": [
  {
   "cell_type": "markdown",
   "id": "disabled-advice",
   "metadata": {
    "id": "caring-request"
   },
   "source": [
    "# 1. Setup"
   ]
  },
  {
   "cell_type": "code",
   "execution_count": 1,
   "id": "consistent-chassis",
   "metadata": {
    "tags": []
   },
   "outputs": [
    {
     "name": "stdout",
     "output_type": "stream",
     "text": [
      "Collecting madgrad\n",
      "  Downloading madgrad-1.1-py3-none-any.whl (7.4 kB)\n",
      "Installing collected packages: madgrad\n",
      "Successfully installed madgrad-1.1\n"
     ]
    }
   ],
   "source": [
    "!pip install madgrad"
   ]
  },
  {
   "cell_type": "markdown",
   "id": "delayed-cleanup",
   "metadata": {
    "id": "Khbmr3Lqx7cv"
   },
   "source": [
    "## 1.1 Libraries"
   ]
  },
  {
   "cell_type": "code",
   "execution_count": 1,
   "id": "political-shame",
   "metadata": {
    "id": "great-office"
   },
   "outputs": [],
   "source": [
    "import torch, torchvision\n",
    "import torch.nn as nn\n",
    "from torch import optim\n",
    "import torch.nn.parallel\n",
    "import torch.nn.functional as F\n",
    "from torch.autograd import Function\n",
    "from torch.utils.data import Dataset, DataLoader\n",
    "from torchvision import transforms, utils\n",
    "import torchvision.transforms.functional as TF\n",
    "import madgrad\n",
    "\n",
    "import os\n",
    "import json\n",
    "import numpy as np\n",
    "import pandas as pd\n",
    "import matplotlib.pyplot as plt\n",
    "from skimage import io\n",
    "\n",
    "from tqdm import notebook\n",
    "from IPython.display import clear_output\n",
    "\n",
    "import PIL.Image\n",
    "from PIL import Image, ImageDraw, ImageFilter\n",
    "PIL.Image.MAX_IMAGE_PIXELS = None"
   ]
  },
  {
   "cell_type": "markdown",
   "id": "hazardous-pocket",
   "metadata": {
    "id": "T4aNc53iyDBu"
   },
   "source": [
    "## 1.2 CUDA"
   ]
  },
  {
   "cell_type": "code",
   "execution_count": 2,
   "id": "contrary-bargain",
   "metadata": {
    "colab": {
     "base_uri": "https://localhost:8080/"
    },
    "id": "CXVYBG2WwYgO",
    "outputId": "3c85d49f-ad14-477d-f72a-d73889c4e0b5"
   },
   "outputs": [
    {
     "name": "stdout",
     "output_type": "stream",
     "text": [
      "Mon May 10 05:11:02 2021       \n",
      "+-----------------------------------------------------------------------------+\n",
      "| NVIDIA-SMI 460.73.01    Driver Version: 460.73.01    CUDA Version: 11.2     |\n",
      "|-------------------------------+----------------------+----------------------+\n",
      "| GPU  Name        Persistence-M| Bus-Id        Disp.A | Volatile Uncorr. ECC |\n",
      "| Fan  Temp  Perf  Pwr:Usage/Cap|         Memory-Usage | GPU-Util  Compute M. |\n",
      "|                               |                      |               MIG M. |\n",
      "|===============================+======================+======================|\n",
      "|   0  A100-PCIE-40GB      Off  | 00000000:01:00.0 Off |                    0 |\n",
      "| N/A   57C    P0    46W / 250W |      0MiB / 40536MiB |      0%      Default |\n",
      "|                               |                      |             Disabled |\n",
      "+-------------------------------+----------------------+----------------------+\n",
      "                                                                               \n",
      "+-----------------------------------------------------------------------------+\n",
      "| Processes:                                                                  |\n",
      "|  GPU   GI   CI        PID   Type   Process name                  GPU Memory |\n",
      "|        ID   ID                                                   Usage      |\n",
      "|=============================================================================|\n",
      "|  No running processes found                                                 |\n",
      "+-----------------------------------------------------------------------------+\n"
     ]
    }
   ],
   "source": [
    "# CUDA\n",
    "device = 'cpu'\n",
    "gpu_info = !nvidia-smi\n",
    "gpu_info = '\\n'.join(gpu_info)\n",
    "if gpu_info.find('failed') >= 0:\n",
    "  print('GPU accelerator not available.')\n",
    "else:\n",
    "  device = torch.device(\"cuda:0\" if torch.cuda.is_available() else \"cpu\")\n",
    "  print(gpu_info)"
   ]
  },
  {
   "cell_type": "markdown",
   "id": "french-contamination",
   "metadata": {
    "id": "NgW3at86yFDI"
   },
   "source": [
    "## 1.3 CPU"
   ]
  },
  {
   "cell_type": "code",
   "execution_count": null,
   "id": "civic-sitting",
   "metadata": {
    "id": "xWYN9G0yhs3V",
    "jupyter": {
     "source_hidden": true
    },
    "tags": []
   },
   "outputs": [],
   "source": [
    "!cat /proc/cpuinfo"
   ]
  },
  {
   "cell_type": "markdown",
   "id": "economic-selling",
   "metadata": {
    "id": "starting-diabetes"
   },
   "source": [
    "# 2. Processing Data for Training and Validation"
   ]
  },
  {
   "cell_type": "markdown",
   "id": "together-declaration",
   "metadata": {
    "id": "FBQ3EKLYyZiv"
   },
   "source": [
    "## 2.1 RLE and Mask Functions"
   ]
  },
  {
   "cell_type": "code",
   "execution_count": 4,
   "id": "written-nicholas",
   "metadata": {
    "id": "ccp0suHQydDk",
    "jupyter": {
     "source_hidden": true
    },
    "tags": []
   },
   "outputs": [],
   "source": [
    "# https://www.kaggle.com/paulorzp/rle-functions-run-lenght-encode-decode\n",
    "def mask2rle(img):\n",
    "    '''\n",
    "    img: numpy array, 1 - mask, 0 - background\n",
    "    Returns run length as string formated\n",
    "    '''\n",
    "    pixels= img.T.ravel()\n",
    "    pixels = np.concatenate([[0], pixels, [0]])\n",
    "    runs = np.where(pixels[1:] != pixels[:-1])[0] + 1\n",
    "    runs[1::2] -= runs[::2]\n",
    "    return ' '.join(str(x) for x in runs)\n",
    "\n",
    "\n",
    "def rle2mask(mask_rle, shape=(1600,256)):\n",
    "    '''\n",
    "    mask_rle: run-length as string formated (start length)\n",
    "    shape: (width,height) of array to return \n",
    "    Returns numpy array, 1 - mask, 0 - background\n",
    "\n",
    "    '''\n",
    "    s = mask_rle.split()\n",
    "    starts, lengths = [np.asarray(x, dtype=int) for x in (s[0:][::2], s[1:][::2])]\n",
    "    starts -= 1\n",
    "    ends = starts + lengths\n",
    "    img = np.zeros(shape[0]*shape[1], dtype=np.uint8)\n",
    "    for lo, hi in zip(starts, ends):\n",
    "        img[lo:hi] = 1\n",
    "    print(\"rle2mask completed.\")\n",
    "    return img.reshape(shape).T"
   ]
  },
  {
   "cell_type": "markdown",
   "id": "occasional-hollow",
   "metadata": {
    "id": "OMPR0LNC7FZW"
   },
   "source": [
    "## 2.2 Tiling Functions for Training and Validation\n",
    "The tiles here overlapping i.e. they have a stride smaller than the sides of the image."
   ]
  },
  {
   "cell_type": "code",
   "execution_count": 1,
   "id": "greenhouse-pulse",
   "metadata": {
    "id": "uERknBtscmZR",
    "jupyter": {
     "source_hidden": true
    },
    "tags": []
   },
   "outputs": [],
   "source": [
    "def tile(img, atc_mask, mask, x_max=None, y_max=None, tile_size=None, stride=None, \n",
    "         img_save_path='path', mask_save_path='path', file_prefix='filename'):\n",
    "    counter = 0\n",
    "    y_list = list(range(0,y_max,stride))\n",
    "    x_list = list(range(0,x_max,stride))\n",
    "\n",
    "    for i in range(len(y_list)):\n",
    "        if y_list[i]+tile_size > y_max:\n",
    "            y_delta = y_list[i] + tile_size - y_max\n",
    "            y_list[i] = y_list[i] - y_delta - 1\n",
    "\n",
    "    for i in range(len(x_list)):\n",
    "        if x_list[i]+tile_size > x_max:\n",
    "            x_delta = x_list[i]+tile_size - x_max\n",
    "            x_list[i] = x_list[i] - x_delta - 1\n",
    "\n",
    "    for y in y_list:\n",
    "        y_end = y + tile_size\n",
    "\n",
    "        for x in x_list:\n",
    "            x_end = x + tile_size\n",
    "            atc_mask_crop = atc_mask[y:y_end, x:x_end]\n",
    "            \n",
    "            if (atc_mask_crop != 0).any():\n",
    "                # crop and save image\n",
    "                img_crop = img[y:y_end, x:x_end, :]\n",
    "                img_file_name = img_save_path + file_prefix+'_'+str(x)+'_'+str(x_end)+'_'+str(y)+'_'+str(y_end)+'.tiff'\n",
    "                io.imsave(img_file_name, img_crop, check_contrast=False)\n",
    "                # crop and save mask\n",
    "                mask_crop = mask[y:y_end, x:x_end]\n",
    "                mask_file_name = mask_save_path + file_prefix+'_'+str(x)+'_'+str(x_end)+'_'+str(y)+'_'+str(y_end)\n",
    "                np.save(mask_file_name, mask_crop)\n",
    "                counter += 1\n",
    "    print(\"Tiling \"+file_prefix+\" completed. \"+str(counter))\n",
    "\n",
    "\n",
    "def anatomic_mask(json_filepath, x_max, y_max):\n",
    "    read_file = open(json_filepath, \"r\") \n",
    "    data = json.load(read_file)\n",
    "    data[0]\n",
    "\n",
    "    polys = []\n",
    "    for index in range(data.__len__()):\n",
    "        geom = data[index]['geometry']['coordinates']\n",
    "        if len(geom)>1:\n",
    "            for j in range(len(geom)):\n",
    "                polys.append(geom[j][0])\n",
    "        else:\n",
    "            polys.append(geom[0])\n",
    "\n",
    "    msk = Image.new('L', (x_max, y_max), 0)  # (w, h)\n",
    "    for i in range(0,len(polys)):\n",
    "        poly = polys[i]\n",
    "        ImageDraw.Draw(msk).polygon(tuple(map(tuple, poly)), outline=1, fill=1) \n",
    "\n",
    "    return np.array(msk)\n",
    "\n",
    "\n",
    "def json2mask(json_path, x_max, y_max):\n",
    "    # Open the mask file\n",
    "    read_file = open(json_path, \"r\") \n",
    "    data = json.load(read_file)\n",
    "\n",
    "    polys = []\n",
    "    for index in range(data.__len__()):\n",
    "        geom = np.array(data[index]['geometry']['coordinates'])\n",
    "        polys.append(geom)\n",
    "\n",
    "    msk = Image.new('L', (x_max, y_max), 0)  # (w, h)\n",
    "    for i in range(len(polys)):\n",
    "        poly = polys[i]\n",
    "        ImageDraw.Draw(msk).polygon(tuple(map(tuple, poly[0])), outline=0, fill=1) \n",
    "\n",
    "    # Tiling needs rescaled image size!\n",
    "    mask = np.array(msk)\n",
    "    return mask\n",
    "\n",
    "\n",
    "def make_tiles(tile_size, stride, file_name='none', rle=None, json=False, read_dir='na'):\n",
    "    img_path = read_dir + file_name + '.tiff'\n",
    "    json_path = read_dir + file_name + '.json'\n",
    "    json_path_anat = read_dir + file_name + '-anatomical-structure.json'\n",
    "    try: img = io.imread(img_path, plugin='pil').squeeze()\n",
    "    except: img = io.imread(img_path).squeeze()\n",
    "\n",
    "    y_max = img.shape[0]\n",
    "    x_max = img.shape[1]\n",
    "    atc_mask = anatomic_mask(json_path_anat, x_max, y_max)\n",
    "    if json:\n",
    "        mask = json2mask(json_path, x_max, y_max)\n",
    "    elif rle:\n",
    "        mask = rle2mask(rle, (x_max, y_max)) # WxH\n",
    "    else:\n",
    "        mask = np.zeros([y_max, x_max])\n",
    "\n",
    "    tile(img, atc_mask, mask, x_max, y_max, tile_size, stride, \n",
    "         img_save_path='train_image_tiles/', mask_save_path='train_mask_tiles/', file_prefix=file_name)"
   ]
  },
  {
   "cell_type": "markdown",
   "id": "brazilian-perspective",
   "metadata": {
    "id": "0R3pUqe07Ior"
   },
   "source": [
    "## 2.3 Create Tiles for Training and Validation"
   ]
  },
  {
   "cell_type": "code",
   "execution_count": 6,
   "id": "formed-coordinator",
   "metadata": {
    "tags": []
   },
   "outputs": [],
   "source": [
    "TILE_SIZE = 1536\n",
    "STRIDE = 1024"
   ]
  },
  {
   "cell_type": "code",
   "execution_count": 7,
   "id": "democratic-mailing",
   "metadata": {
    "collapsed": true,
    "id": "PASnDF9pKGyH",
    "jupyter": {
     "outputs_hidden": true
    },
    "tags": []
   },
   "outputs": [
    {
     "data": {
      "application/vnd.jupyter.widget-view+json": {
       "model_id": "cb91700c5b484853abad576dfa9f489e",
       "version_major": 2,
       "version_minor": 0
      },
      "text/plain": [
       "HBox(children=(HTML(value=''), FloatProgress(value=0.0, max=15.0), HTML(value='')))"
      ]
     },
     "metadata": {},
     "output_type": "display_data"
    },
    {
     "name": "stdout",
     "output_type": "stream",
     "text": [
      "rle2mask completed.\n",
      "Tiling 2f6ecfcdf completed. 373\n",
      "rle2mask completed.\n",
      "Tiling 8242609fa completed. 870\n",
      "rle2mask completed.\n",
      "Tiling aaa6a05cc completed. 162\n",
      "rle2mask completed.\n",
      "Tiling cb2d976f4 completed. 997\n",
      "rle2mask completed.\n",
      "Tiling b9a3865fc completed. 850\n",
      "rle2mask completed.\n",
      "Tiling b2dc8411c completed. 242\n",
      "rle2mask completed.\n",
      "Tiling 0486052bb completed. 421\n",
      "rle2mask completed.\n",
      "Tiling e79de561c completed. 324\n",
      "rle2mask completed.\n",
      "Tiling 095bf7a1f completed. 987\n",
      "rle2mask completed.\n",
      "Tiling 54f2eec69 completed. 335\n",
      "rle2mask completed.\n",
      "Tiling 4ef6695ce completed. 1397\n",
      "rle2mask completed.\n",
      "Tiling 26dc41664 completed. 913\n",
      "rle2mask completed.\n",
      "Tiling c68fe75ea completed. 1323\n",
      "rle2mask completed.\n",
      "Tiling afa5e8098 completed. 1117\n",
      "rle2mask completed.\n",
      "Tiling 1e2425f28 completed. 663\n",
      "\n"
     ]
    }
   ],
   "source": [
    "os.makedirs('train_image_tiles/')\n",
    "os.makedirs('train_mask_tiles/')\n",
    "\n",
    "train_df = pd.read_csv(\"new_train.csv\")\n",
    "\n",
    "for i in notebook.tqdm(range(len(train_df))):\n",
    "    read_dir = 'train/'\n",
    "    file_name = train_df.iloc[i, 0]\n",
    "    rle = train_df.iloc[i, 1]\n",
    "    make_tiles(tile_size = TILE_SIZE, stride = STRIDE, file_name=file_name, rle=rle, read_dir=read_dir)"
   ]
  },
  {
   "cell_type": "code",
   "execution_count": 10,
   "id": "better-baghdad",
   "metadata": {
    "collapsed": true,
    "jupyter": {
     "outputs_hidden": true,
     "source_hidden": true
    },
    "tags": []
   },
   "outputs": [
    {
     "data": {
      "application/vnd.jupyter.widget-view+json": {
       "model_id": "460b7dfa826b42dba59ef50ab724453f",
       "version_major": 2,
       "version_minor": 0
      },
      "text/plain": [
       "HBox(children=(HTML(value=''), FloatProgress(value=0.0, max=8.0), HTML(value='')))"
      ]
     },
     "metadata": {},
     "output_type": "display_data"
    },
    {
     "name": "stdout",
     "output_type": "stream",
     "text": [
      "rle2mask completed.\n",
      "Tiling A_54f2eec69 completed. 335\n",
      "rle2mask completed.\n",
      "Tiling A_8242609fa completed. 870\n",
      "rle2mask completed.\n",
      "Tiling A_b9a3865fc completed. 896\n",
      "rle2mask completed.\n",
      "Tiling A_aaa6a05cc completed. 162\n",
      "rle2mask completed.\n",
      "Tiling A_afa5e8098 completed. 1117\n",
      "rle2mask completed.\n",
      "Tiling A_cb2d976f4 completed. 997\n",
      "rle2mask completed.\n",
      "Tiling A_e79de561c completed. 324\n",
      "rle2mask completed.\n",
      "Tiling A_8242609fa2 completed. 870\n",
      "\n"
     ]
    }
   ],
   "source": [
    "train_df = pd.read_csv(\"train_augmented.csv\")\n",
    "\n",
    "for i in notebook.tqdm(range(len(train_df))):\n",
    "    read_dir = ''\n",
    "    file_name = train_df.iloc[i, 0]\n",
    "    rle = train_df.iloc[i, 1]\n",
    "    make_tiles(tile_size = TILE_SIZE, stride = STRIDE, file_name=file_name, rle=rle, read_dir=read_dir)"
   ]
  },
  {
   "cell_type": "code",
   "execution_count": 14,
   "id": "middle-cambodia",
   "metadata": {
    "collapsed": true,
    "jupyter": {
     "outputs_hidden": true,
     "source_hidden": true
    },
    "tags": []
   },
   "outputs": [
    {
     "data": {
      "application/vnd.jupyter.widget-view+json": {
       "model_id": "f9398da754cf4322bec6d8a8ec3e9055",
       "version_major": 2,
       "version_minor": 0
      },
      "text/plain": [
       "HBox(children=(HTML(value=''), FloatProgress(value=0.0, max=7.0), HTML(value='')))"
      ]
     },
     "metadata": {},
     "output_type": "display_data"
    },
    {
     "name": "stdout",
     "output_type": "stream",
     "text": [
      "Tiling 095_mw completed. 359\n",
      "Tiling Colon_hist_slide completed. 144\n",
      "Tiling Kidney_20x_Objective_5_minutes completed. 317\n",
      "Tiling Kidney_by_elearning completed. 35\n",
      "Tiling Kidney_EZ_Microscope completed. 132\n",
      "Tiling Kidney_FF_TrMass_20x completed. 1280\n",
      "Tiling Ovarian_neoplasm completed. 24\n",
      "\n"
     ]
    }
   ],
   "source": [
    "train_df = pd.read_csv(\"train_external.csv\")\n",
    "\n",
    "for i in notebook.tqdm(range(len(train_df))):\n",
    "    read_dir = 'Panorama/'\n",
    "    file_name = train_df.iloc[i, 0]\n",
    "    mk = train_df.iloc[i, 1]\n",
    "    make_tiles(tile_size = TILE_SIZE, stride = STRIDE, file_name=file_name, json=mk, read_dir=read_dir)"
   ]
  },
  {
   "cell_type": "code",
   "execution_count": 12,
   "id": "moved-broadcast",
   "metadata": {
    "collapsed": true,
    "jupyter": {
     "outputs_hidden": true,
     "source_hidden": true
    },
    "tags": []
   },
   "outputs": [
    {
     "data": {
      "application/vnd.jupyter.widget-view+json": {
       "model_id": "41681978d4a245e883a86c5fd6cabaf5",
       "version_major": 2,
       "version_minor": 0
      },
      "text/plain": [
       "HBox(children=(HTML(value=''), FloatProgress(value=0.0, max=5.0), HTML(value='')))"
      ]
     },
     "metadata": {},
     "output_type": "display_data"
    },
    {
     "name": "stdout",
     "output_type": "stream",
     "text": [
      "rle2mask completed.\n",
      "Tiling 2ec3f1bb9 completed. 882\n",
      "rle2mask completed.\n",
      "Tiling 3589adb90 completed. 331\n",
      "rle2mask completed.\n",
      "Tiling d488c759a completed. 717\n",
      "rle2mask completed.\n",
      "Tiling aa05346ff completed. 984\n",
      "rle2mask completed.\n",
      "Tiling 57512b7f1 completed. 595\n",
      "\n"
     ]
    }
   ],
   "source": [
    "train_df = pd.read_csv(\"train_psudo.csv\")\n",
    "\n",
    "for i in notebook.tqdm(range(len(train_df))):\n",
    "    read_dir = 'test/'\n",
    "    file_name = train_df.iloc[i, 0]\n",
    "    rle = train_df.iloc[i, 1]\n",
    "    make_tiles(tile_size = TILE_SIZE, stride = STRIDE, file_name=file_name, rle=rle, read_dir=read_dir)"
   ]
  },
  {
   "cell_type": "markdown",
   "id": "changing-organic",
   "metadata": {
    "id": "OCeEUyZ6LI8d"
   },
   "source": [
    "## 2.4 Delete Training Data Folders!!"
   ]
  },
  {
   "cell_type": "code",
   "execution_count": null,
   "id": "blind-profit",
   "metadata": {
    "id": "ejY9dOkwkoCa",
    "jupyter": {
     "source_hidden": true
    },
    "tags": []
   },
   "outputs": [],
   "source": [
    "# Code for deleting folders\n",
    "#!rm -rf train_image_tiles/\n",
    "#!rm -rf train_mask_tiles/"
   ]
  },
  {
   "cell_type": "markdown",
   "id": "alive-induction",
   "metadata": {},
   "source": [
    "## 2.5 Empty Trash"
   ]
  },
  {
   "cell_type": "code",
   "execution_count": 4,
   "id": "clean-responsibility",
   "metadata": {
    "jupyter": {
     "source_hidden": true
    },
    "tags": []
   },
   "outputs": [],
   "source": [
    "!rm -rf ~/.local/share/Trash/*"
   ]
  },
  {
   "cell_type": "markdown",
   "id": "complicated-leisure",
   "metadata": {
    "id": "searching-favorite"
   },
   "source": [
    "# 3. Dataset for Training and Validation"
   ]
  },
  {
   "cell_type": "markdown",
   "id": "acknowledged-gallery",
   "metadata": {
    "id": "n1-oQOsIWbYN"
   },
   "source": [
    "## 3.1 Dataset Objects"
   ]
  },
  {
   "cell_type": "code",
   "execution_count": 3,
   "id": "apparent-canyon",
   "metadata": {},
   "outputs": [],
   "source": [
    "class HuBMAPDataset(Dataset):\n",
    "    def __init__(self, image_path='train_image_tiles/', mask_path='train_mask_tiles/', tile_size=1536, mean=None, std=None):\n",
    "        super().__init__()\n",
    "        self.image_path = image_path\n",
    "        self.mask_path = mask_path\n",
    "        self.tile_size = tile_size\n",
    "        self.image_list = os.listdir(self.image_path)\n",
    "        self.mask_list = os.listdir(self.mask_path)\n",
    "        #self.image_list = [x for x in self.image_list if x[:9] in ['2ec3f1bb9','3589adb90','57512b7f1','aa05346ff','d488c759a']]\n",
    "        self.nrm = transforms.Compose([transforms.ToTensor(), \n",
    "                                       transforms.ColorJitter(brightness=0.05, contrast=0.05, saturation=0.05, hue=0.05), \n",
    "                                       transforms.Normalize(mean=mean, std=std)])\n",
    "        self.flips = transforms.Compose([transforms.RandomVerticalFlip(p=0.5), \n",
    "                                       transforms.RandomHorizontalFlip(p=0.5)])\n",
    "        self.rand_blur = transforms.GaussianBlur(kernel_size=3, sigma=(0.1, 1.0))\n",
    "\n",
    "\n",
    "    def __getitem__(self, idx):\n",
    "        img_file_name = self.image_list[idx]\n",
    "        mask_file_name = img_file_name[:-5]+'.npy'\n",
    "        image = Image.open(self.image_path + img_file_name).convert(\"RGB\")\n",
    "        \n",
    "        if mask_file_name in self.mask_list:\n",
    "            mask = np.load(self.mask_path + mask_file_name)\n",
    "            mask = torch.tensor(mask, dtype=torch.long)\n",
    "        else:\n",
    "            mask = torch.zeros([self.tile_size,self.tile_size], dtype=torch.long)\n",
    "        \n",
    "\n",
    "        # Normalize image and ToTensor\n",
    "        image = self.nrm(image)\n",
    "        if img_file_name[:9] not in ['2ec3f1bb9','3589adb90','57512b7f1','aa05346ff','d488c759a'] and img_file_name[:2] != 'A_':\n",
    "            image = self.rand_blur(image)\n",
    "        \n",
    "        seed = torch.randint(0,81261917,[1]) # make a seed with random int generator \n",
    "        torch.manual_seed(seed) # needed for torchvision\n",
    "        image = self.flips(image)\n",
    "        torch.manual_seed(seed) # needed for torchvision\n",
    "        mask = self.flips(mask)\n",
    "        \n",
    "        return image, mask\n",
    "\n",
    "    def __len__(self):\n",
    "        return len(self.image_list)"
   ]
  },
  {
   "cell_type": "code",
   "execution_count": 4,
   "id": "retained-foster",
   "metadata": {},
   "outputs": [],
   "source": [
    "class TestDataset(Dataset):\n",
    "    def __init__(self, image_path='train_image_tiles/', mask_path='train_mask_tiles/', tile_size=1536, mean=None, std=None):\n",
    "        super().__init__()\n",
    "        self.image_path = image_path\n",
    "        self.mask_path = mask_path\n",
    "        self.tile_size = tile_size\n",
    "        self.image_list = os.listdir(self.image_path)\n",
    "        self.mask_list = os.listdir(self.mask_path)\n",
    "        self.image_list = [x for x in self.image_list if x[:9] in ['2ec3f1bb9','3589adb90','57512b7f1','aa05346ff','d488c759a']]\n",
    "        self.nrm = transforms.Compose([transforms.ToTensor(), \n",
    "                                       transforms.Normalize(mean=mean, std=std)])\n",
    "\n",
    "    def __getitem__(self, idx):\n",
    "        img_file_name = self.image_list[idx]\n",
    "        mask_file_name = img_file_name[:-5]+'.npy'\n",
    "        image = Image.open(self.image_path + img_file_name).convert(\"RGB\")\n",
    "        \n",
    "        if mask_file_name in self.mask_list:\n",
    "            mask = np.load(self.mask_path + mask_file_name)\n",
    "            mask = torch.tensor(mask, dtype=torch.long)\n",
    "        else:\n",
    "            mask = torch.zeros([self.tile_size,self.tile_size], dtype=torch.long)\n",
    "        \n",
    "\n",
    "        # Normalize image and ToTensor\n",
    "        image = self.nrm(image)\n",
    "        \n",
    "        return image, mask\n",
    "\n",
    "    def __len__(self):\n",
    "        return len(self.image_list)"
   ]
  },
  {
   "cell_type": "code",
   "execution_count": 4,
   "id": "thirty-switch",
   "metadata": {
    "jupyter": {
     "source_hidden": true
    },
    "tags": []
   },
   "outputs": [],
   "source": [
    "class TestDataset(Dataset):\n",
    "    def __init__(self, image_path='test_image_tiles/', mask_path='test_mask_tiles/', tile_size=1536, mean=None, std=None):\n",
    "        super().__init__()\n",
    "        self.image_path = image_path\n",
    "        self.mask_path = mask_path\n",
    "        self.tile_size = tile_size\n",
    "        self.image_list = os.listdir(self.image_path)\n",
    "        self.mask_list = os.listdir(self.mask_path)\n",
    "        self.nrm = transforms.Compose([transforms.ToTensor(), \n",
    "                                       transforms.Normalize(mean=mean, std=std)])\n",
    "\n",
    "    def __getitem__(self, idx):\n",
    "        img_file_name = self.image_list[idx]\n",
    "        mask_file_name = img_file_name[:-5]+'.npy'\n",
    "        image = Image.open(self.image_path + img_file_name).convert(\"RGB\")\n",
    "        \n",
    "        if mask_file_name in self.mask_list:\n",
    "            mask = np.load(self.mask_path + mask_file_name)\n",
    "            mask = torch.tensor(mask, dtype=torch.long)\n",
    "        else:\n",
    "            mask = torch.zeros([self.tile_size,self.tile_size], dtype=torch.long)\n",
    "        \n",
    "\n",
    "        # Normalize image and ToTensor\n",
    "        image = self.nrm(image)\n",
    "        \n",
    "        return image, mask\n",
    "\n",
    "    def __len__(self):\n",
    "        return len(self.image_list)"
   ]
  },
  {
   "cell_type": "markdown",
   "id": "related-ghana",
   "metadata": {
    "id": "extra-rubber"
   },
   "source": [
    "# 4. Network"
   ]
  },
  {
   "cell_type": "code",
   "execution_count": 5,
   "id": "drawn-throat",
   "metadata": {
    "id": "KxQO6wrFfj0i",
    "tags": []
   },
   "outputs": [],
   "source": [
    "n_classes = 2\n",
    "network = torchvision.models.segmentation.deeplabv3_resnet101(pretrained=False, num_classes=n_classes, aux_loss=True)"
   ]
  },
  {
   "cell_type": "markdown",
   "id": "pacific-motorcycle",
   "metadata": {
    "id": "medium-discussion"
   },
   "source": [
    "# 5. Training"
   ]
  },
  {
   "cell_type": "markdown",
   "id": "existing-catholic",
   "metadata": {
    "id": "AoaCkAforgm9"
   },
   "source": [
    "## 5.1 Evaluation Metrics: Dice Coefficient"
   ]
  },
  {
   "cell_type": "code",
   "execution_count": 6,
   "id": "charged-virtue",
   "metadata": {
    "id": "MCC_If3578U-",
    "tags": []
   },
   "outputs": [],
   "source": [
    "class DiceLoss(nn.Module):\n",
    "    def __init__(self, weight=None, size_average=True):\n",
    "        super(DiceLoss, self).__init__()\n",
    "\n",
    "    def forward(self, inputs, targets, smooth=1):\n",
    "        \n",
    "        #comment out if your model contains a sigmoid or equivalent activation layer\n",
    "        #inputs = torch.sigmoid(inputs)\n",
    "        \n",
    "        #flatten label and prediction tensors\n",
    "        inputs = inputs.view(-1)\n",
    "        targets = targets.view(-1)\n",
    "        \n",
    "        intersection = (inputs * targets).sum()\n",
    "\n",
    "        dice = (2.*intersection + smooth)/(inputs.sum() + targets.sum() + smooth)\n",
    "\n",
    "        return 1 - dice"
   ]
  },
  {
   "cell_type": "code",
   "execution_count": 7,
   "id": "endangered-meeting",
   "metadata": {
    "id": "entertaining-amendment",
    "tags": []
   },
   "outputs": [],
   "source": [
    "def eval(net, loader, device):\n",
    "    \"\"\"Evaluation without the densecrf with the dice coefficient\"\"\"\n",
    "    net.eval()\n",
    "    n_val = len(loader)  # the number of batch\n",
    "    DL = DiceLoss()\n",
    "    tot = 0\n",
    "\n",
    "    #with tqdm(total=n_val, desc='Validation round', unit='batch', leave=False) as pbar:\n",
    "    for idx, data in enumerate(loader):\n",
    "        imgs, true_masks = data\n",
    "        imgs = imgs.to(device=device, dtype=torch.float32)\n",
    "        true_masks = true_masks.to(device=device)\n",
    "\n",
    "        with torch.no_grad():\n",
    "            masks_pred = net(imgs)['out']\n",
    "\n",
    "        #if net.n_classes > 1:\n",
    "        #    tot += F.cross_entropy(mask_pred, true_masks).item()\n",
    "        #else:\n",
    "        #pred = torch.sigmoid(mask_pred)\n",
    "        #pred = (pred > 0.5).float()\n",
    "        pred = masks_pred.data.max(1, keepdim=True)[1] # get the index of the max log-probability\n",
    "        tot += DL(pred, true_masks).item()\n",
    "        #pbar.update()\n",
    "\n",
    "    # net.train()\n",
    "    return tot / n_val"
   ]
  },
  {
   "cell_type": "markdown",
   "id": "sonic-serbia",
   "metadata": {
    "id": "AsrjbD8V7xpm"
   },
   "source": [
    "## 5.2 Set Prameters"
   ]
  },
  {
   "cell_type": "code",
   "execution_count": 8,
   "id": "packed-brand",
   "metadata": {
    "id": "chicken-gibraltar"
   },
   "outputs": [],
   "source": [
    "mean = [0.6359447051178325,0.4671320752664046,0.6818842088634317]\n",
    "std = [0.1621760194274512,0.2289463254538449,0.1411499072882262]\n",
    "\n",
    "dataset = HuBMAPDataset('train_image_tiles/', 'train_mask_tiles/', mean=mean, std=std)\n",
    "\n",
    "batch_size = 4\n",
    "n_workers = 7\n",
    "n_channels = 3\n",
    "n_train = len(dataset)\n",
    "\n",
    "if (len(dataset) % batch_size == 0):\n",
    "    train_loader = DataLoader(dataset, batch_size=batch_size, shuffle=True, \n",
    "                              num_workers=n_workers, pin_memory=True, drop_last=False)\n",
    "else:\n",
    "    train_loader = DataLoader(dataset, batch_size=batch_size, shuffle=True, \n",
    "                              num_workers=n_workers, pin_memory=True, drop_last=True)\n",
    "\n",
    "epochs = 3"
   ]
  },
  {
   "cell_type": "code",
   "execution_count": 9,
   "id": "southeast-prince",
   "metadata": {
    "id": "af_Zha60bZ7F",
    "tags": []
   },
   "outputs": [],
   "source": [
    "test_dataset = TestDataset('train_image_tiles/', 'train_mask_tiles/', mean=mean, std=std)\n",
    "test_loader = DataLoader(test_dataset, batch_size=batch_size, shuffle=False, \n",
    "                         num_workers=n_workers, pin_memory=True, drop_last=False)"
   ]
  },
  {
   "cell_type": "code",
   "execution_count": null,
   "id": "coated-protocol",
   "metadata": {
    "jupyter": {
     "source_hidden": true
    },
    "tags": []
   },
   "outputs": [],
   "source": [
    "test_dataset = TestDataset('test_image_tiles/', 'test_mask_tiles/', mean=mean, std=std)\n",
    "test_loader = DataLoader(test_dataset, batch_size=batch_size, shuffle=False, \n",
    "                         num_workers=n_workers, pin_memory=True, drop_last=False)"
   ]
  },
  {
   "cell_type": "markdown",
   "id": "respective-cutting",
   "metadata": {
    "id": "vt1uOzMb0E4Y"
   },
   "source": [
    "## 5.3 Configuration"
   ]
  },
  {
   "cell_type": "code",
   "execution_count": 10,
   "id": "useful-international",
   "metadata": {
    "jupyter": {
     "source_hidden": true
    },
    "tags": []
   },
   "outputs": [],
   "source": [
    "class Head(nn.Module):\n",
    "    def __init__(self, network):\n",
    "        super().__init__()\n",
    "        self.network = network\n",
    "        self.backbone = self.network.backbone\n",
    "        self.classifier = self.network.classifier\n",
    "        self.aux_classifier = self.network.aux_classifier\n",
    "        \n",
    "    def forward(self, x):\n",
    "        input_shape = x.shape[-2:]\n",
    "        with torch.no_grad():\n",
    "            x = self.backbone(x)\n",
    "        \n",
    "        output = self.classifier(x['out'])\n",
    "        output = F.interpolate(output, input_shape, mode='bilinear', align_corners=False)\n",
    "        output_aux = self.aux_classifier(x['aux'])\n",
    "        output_aux = F.interpolate(output_aux, input_shape, mode='bilinear', align_corners=False)\n",
    "        \n",
    "        return {'out':output, 'aux':output_aux}"
   ]
  },
  {
   "cell_type": "code",
   "execution_count": 10,
   "id": "textile-phase",
   "metadata": {
    "id": "UrCq3-TKdq11"
   },
   "outputs": [],
   "source": [
    "model_checkpoint = 'DeepLab2'\n",
    "save_path = 'model/'\n",
    "# os.makedirs(save_path)\n",
    "\n",
    "n_classes = 2\n",
    "# network0 = torchvision.models.segmentation.deeplabv3_resnet101(pretrained=False, num_classes=n_classes, aux_loss=True)\n",
    "checkpoint = torch.load(save_path+model_checkpoint)\n",
    "network.load_state_dict(checkpoint['model_state_dict'])\n",
    "# optimizer.load_state_dict(checkpoint['optimizer_state_dict'])\n",
    "# network = Head(network0)\n",
    "# checkpoint = torch.load(save_path+'DeepLabHead0')\n",
    "# network.load_state_dict(checkpoint['model_state_dict'])\n",
    "\n",
    "network = network.to(device)\n",
    "optimizer = madgrad.MADGRAD(network.parameters(), lr=1e-4, momentum=0.9)\n",
    "\n",
    "# del checkpoint\n",
    "\n",
    "criterion1 = nn.CrossEntropyLoss()\n",
    "criterion2 = nn.CrossEntropyLoss()\n",
    "\n",
    "# Creates once at the beginning of training\n",
    "scaler = torch.cuda.amp.GradScaler()"
   ]
  },
  {
   "cell_type": "code",
   "execution_count": 11,
   "id": "numeric-peter",
   "metadata": {},
   "outputs": [],
   "source": [
    "model_checkpoint = 'DeepLab'"
   ]
  },
  {
   "cell_type": "markdown",
   "id": "above-institute",
   "metadata": {
    "id": "g9wcfdrsrjq4"
   },
   "source": [
    "## 5.4 Start Training"
   ]
  },
  {
   "cell_type": "code",
   "execution_count": null,
   "id": "dried-finger",
   "metadata": {},
   "outputs": [
    {
     "data": {
      "application/vnd.jupyter.widget-view+json": {
       "model_id": "acefa251847141acb369b10935afb360",
       "version_major": 2,
       "version_minor": 0
      },
      "text/plain": [
       "HBox(children=(HTML(value='Epoch 1/3'), FloatProgress(value=0.0, max=22119.0), HTML(value='')))"
      ]
     },
     "metadata": {},
     "output_type": "display_data"
    },
    {
     "name": "stdout",
     "output_type": "stream",
     "text": [
      "Dice loss: 0.0631866929158999\n",
      "Min Dice loss: 0.0631866929158999\n",
      "Dice loss: 0.06033728370776755\n",
      "Min Dice loss: 0.06033728370776755\n",
      "Dice loss: 0.0700602450811794\n",
      "Dice loss: 0.06440035910964702\n",
      "Dice loss: 0.06440930945335785\n",
      "\n",
      "Epoch Cross Entropy Loss:  88.20144050481031\n",
      "Saving at model/\n",
      "Save complete:0\n"
     ]
    },
    {
     "data": {
      "application/vnd.jupyter.widget-view+json": {
       "model_id": "af956e8a64894099a92cf2ea2eb6dd75",
       "version_major": 2,
       "version_minor": 0
      },
      "text/plain": [
       "HBox(children=(HTML(value='Epoch 2/3'), FloatProgress(value=0.0, max=22119.0), HTML(value='')))"
      ]
     },
     "metadata": {},
     "output_type": "display_data"
    },
    {
     "name": "stdout",
     "output_type": "stream",
     "text": [
      "Dice loss: 0.07221358649303458\n",
      "Dice loss: 0.05955204887886268\n",
      "Min Dice loss: 0.05955204887886268\n",
      "Dice loss: 0.0577204049667182\n",
      "Min Dice loss: 0.0577204049667182\n",
      "Dice loss: 0.07072981623555884\n"
     ]
    }
   ],
   "source": [
    "min_loss = 0.07\n",
    "for epoch in range(epochs):\n",
    "    network.train()\n",
    "\n",
    "    epoch_loss = 0\n",
    "    with notebook.tqdm(total=len(dataset), desc=f'Epoch {epoch + 1}/{epochs}', unit='img') as pbar:\n",
    "        for idx, data in enumerate(train_loader):\n",
    "            imgs, true_masks = data\n",
    "            imgs = imgs.to(device=device, dtype=torch.float32)\n",
    "            true_masks = true_masks.squeeze(1).to(device=device)\n",
    "\n",
    "            optimizer.zero_grad()\n",
    "            \n",
    "            # Casts operations to mixed precision\n",
    "            with torch.cuda.amp.autocast():\n",
    "                outputs = network(imgs)\n",
    "                loss = criterion1(outputs['out'], true_masks) + criterion2(outputs['aux'], true_masks)\n",
    "            epoch_loss += loss.item()\n",
    "            pbar.set_postfix(**{'loss (batch)': loss.item()})\n",
    "            \n",
    "            # Scales the loss, and calls backward()\n",
    "            # to create scaled gradients\n",
    "            scaler.scale(loss).backward()\n",
    "\n",
    "            # Unscales gradients and calls\n",
    "            # or skips optimizer.step()\n",
    "            scaler.step(optimizer)\n",
    "\n",
    "            # Updates the scale for next iteration\n",
    "            scaler.update()\n",
    "            \n",
    "            pbar.update(imgs.shape[0])\n",
    "            if (idx % 1100 == 0) and (idx != 0):\n",
    "                state = {\n",
    "                    'model_state_dict': network.state_dict()\n",
    "                }\n",
    "                torch.save(state, save_path+model_checkpoint+str(epoch%10))\n",
    "                test_score = eval(network, test_loader, device)\n",
    "                network.train()\n",
    "                print(\"Dice loss:\", test_score)\n",
    "                if test_score < min_loss:\n",
    "                    min_loss = test_score\n",
    "                    print(\"Min Dice loss:\", min_loss)\n",
    "                    torch.save(state, save_path+model_checkpoint+'_min_loss_'+str(min_loss))\n",
    "\n",
    "    print('Epoch Cross Entropy Loss: ', epoch_loss)\n",
    "    print('Saving at %s' % save_path)\n",
    "    state = {\n",
    "        'model_state_dict': network.state_dict()\n",
    "    }\n",
    "    torch.save(state, save_path+model_checkpoint+str(epoch%10))\n",
    "    print('Save complete:'+str(epoch%10))"
   ]
  },
  {
   "cell_type": "code",
   "execution_count": null,
   "id": "fifty-bacon",
   "metadata": {},
   "outputs": [],
   "source": [
    "from jarviscloud import jarviscloud\n",
    "jarviscloud.pause()"
   ]
  },
  {
   "cell_type": "code",
   "execution_count": null,
   "id": "finite-opinion",
   "metadata": {},
   "outputs": [],
   "source": []
  }
 ],
 "metadata": {
  "accelerator": "GPU",
  "colab": {
   "collapsed_sections": [
    "NgW3at86yFDI",
    "FBQ3EKLYyZiv",
    "OMPR0LNC7FZW",
    "0R3pUqe07Ior",
    "OCeEUyZ6LI8d"
   ],
   "machine_shape": "hm",
   "name": "HuBMAP_Glomeruli_17.ipynb",
   "provenance": []
  },
  "environment": {
   "name": "pytorch-gpu.1-8.m65",
   "type": "gcloud",
   "uri": "gcr.io/deeplearning-platform-release/pytorch-gpu.1-8:m65"
  },
  "kernelspec": {
   "display_name": "Python 3",
   "language": "python",
   "name": "python3"
  },
  "language_info": {
   "codemirror_mode": {
    "name": "ipython",
    "version": 3
   },
   "file_extension": ".py",
   "mimetype": "text/x-python",
   "name": "python",
   "nbconvert_exporter": "python",
   "pygments_lexer": "ipython3",
   "version": "3.8.5"
  },
  "widgets": {
   "application/vnd.jupyter.widget-state+json": {
    "0083a47cd2874709bee6bc29a8684e4d": {
     "model_module": "@jupyter-widgets/controls",
     "model_name": "FloatProgressModel",
     "state": {
      "_dom_classes": [],
      "_model_module": "@jupyter-widgets/controls",
      "_model_module_version": "1.5.0",
      "_model_name": "FloatProgressModel",
      "_view_count": null,
      "_view_module": "@jupyter-widgets/controls",
      "_view_module_version": "1.5.0",
      "_view_name": "ProgressView",
      "bar_style": "",
      "description": "Epoch 1/10:  16%",
      "description_tooltip": null,
      "layout": "IPY_MODEL_a6d3c29692474566809c63f8fa6b09c7",
      "max": 36368,
      "min": 0,
      "orientation": "horizontal",
      "style": "IPY_MODEL_c96de00d68304e268f90c6c7623587af",
      "value": 5742
     }
    },
    "05e8cd6604cc4b84a77e72ccece740c1": {
     "model_module": "@jupyter-widgets/controls",
     "model_name": "FloatProgressModel",
     "state": {
      "_dom_classes": [],
      "_model_module": "@jupyter-widgets/controls",
      "_model_module_version": "1.5.0",
      "_model_name": "FloatProgressModel",
      "_view_count": null,
      "_view_module": "@jupyter-widgets/controls",
      "_view_module_version": "1.5.0",
      "_view_name": "ProgressView",
      "bar_style": "",
      "description": "Validation round: 100%",
      "description_tooltip": null,
      "layout": "IPY_MODEL_9d0a7fc2052848fd8d1c1e26e602ef40",
      "max": 56,
      "min": 0,
      "orientation": "horizontal",
      "style": "IPY_MODEL_6ea8db273ddd46ce87c497d64dc858b5",
      "value": 56
     }
    },
    "070fca782d8e47d2b63e52c4f1386115": {
     "model_module": "@jupyter-widgets/controls",
     "model_name": "FloatProgressModel",
     "state": {
      "_dom_classes": [],
      "_model_module": "@jupyter-widgets/controls",
      "_model_module_version": "1.5.0",
      "_model_name": "FloatProgressModel",
      "_view_count": null,
      "_view_module": "@jupyter-widgets/controls",
      "_view_module_version": "1.5.0",
      "_view_name": "ProgressView",
      "bar_style": "",
      "description": "Validation round: 100%",
      "description_tooltip": null,
      "layout": "IPY_MODEL_ffcd18dbbd134d4eafdd271d34da8912",
      "max": 56,
      "min": 0,
      "orientation": "horizontal",
      "style": "IPY_MODEL_155891a59c8b4881a16dfb1abe65b6f4",
      "value": 56
     }
    },
    "0948aa01c3f645298d2c0df2b6061ded": {
     "model_module": "@jupyter-widgets/base",
     "model_name": "LayoutModel",
     "state": {
      "_model_module": "@jupyter-widgets/base",
      "_model_module_version": "1.2.0",
      "_model_name": "LayoutModel",
      "_view_count": null,
      "_view_module": "@jupyter-widgets/base",
      "_view_module_version": "1.2.0",
      "_view_name": "LayoutView",
      "align_content": null,
      "align_items": null,
      "align_self": null,
      "border": null,
      "bottom": null,
      "display": null,
      "flex": null,
      "flex_flow": null,
      "grid_area": null,
      "grid_auto_columns": null,
      "grid_auto_flow": null,
      "grid_auto_rows": null,
      "grid_column": null,
      "grid_gap": null,
      "grid_row": null,
      "grid_template_areas": null,
      "grid_template_columns": null,
      "grid_template_rows": null,
      "height": null,
      "justify_content": null,
      "justify_items": null,
      "left": null,
      "margin": null,
      "max_height": null,
      "max_width": null,
      "min_height": null,
      "min_width": null,
      "object_fit": null,
      "object_position": null,
      "order": null,
      "overflow": null,
      "overflow_x": null,
      "overflow_y": null,
      "padding": null,
      "right": null,
      "top": null,
      "visibility": null,
      "width": null
     }
    },
    "100e19f8e3cc4fe2b261df7c4999236e": {
     "model_module": "@jupyter-widgets/base",
     "model_name": "LayoutModel",
     "state": {
      "_model_module": "@jupyter-widgets/base",
      "_model_module_version": "1.2.0",
      "_model_name": "LayoutModel",
      "_view_count": null,
      "_view_module": "@jupyter-widgets/base",
      "_view_module_version": "1.2.0",
      "_view_name": "LayoutView",
      "align_content": null,
      "align_items": null,
      "align_self": null,
      "border": null,
      "bottom": null,
      "display": null,
      "flex": null,
      "flex_flow": null,
      "grid_area": null,
      "grid_auto_columns": null,
      "grid_auto_flow": null,
      "grid_auto_rows": null,
      "grid_column": null,
      "grid_gap": null,
      "grid_row": null,
      "grid_template_areas": null,
      "grid_template_columns": null,
      "grid_template_rows": null,
      "height": null,
      "justify_content": null,
      "justify_items": null,
      "left": null,
      "margin": null,
      "max_height": null,
      "max_width": null,
      "min_height": null,
      "min_width": null,
      "object_fit": null,
      "object_position": null,
      "order": null,
      "overflow": null,
      "overflow_x": null,
      "overflow_y": null,
      "padding": null,
      "right": null,
      "top": null,
      "visibility": null,
      "width": null
     }
    },
    "155891a59c8b4881a16dfb1abe65b6f4": {
     "model_module": "@jupyter-widgets/controls",
     "model_name": "ProgressStyleModel",
     "state": {
      "_model_module": "@jupyter-widgets/controls",
      "_model_module_version": "1.5.0",
      "_model_name": "ProgressStyleModel",
      "_view_count": null,
      "_view_module": "@jupyter-widgets/base",
      "_view_module_version": "1.2.0",
      "_view_name": "StyleView",
      "bar_color": null,
      "description_width": "initial"
     }
    },
    "17077aa697be4b9793f2060554a97764": {
     "model_module": "@jupyter-widgets/controls",
     "model_name": "FloatProgressModel",
     "state": {
      "_dom_classes": [],
      "_model_module": "@jupyter-widgets/controls",
      "_model_module_version": "1.5.0",
      "_model_name": "FloatProgressModel",
      "_view_count": null,
      "_view_module": "@jupyter-widgets/controls",
      "_view_module_version": "1.5.0",
      "_view_name": "ProgressView",
      "bar_style": "",
      "description": "Validation round: 100%",
      "description_tooltip": null,
      "layout": "IPY_MODEL_ecd18db867eb471fa274de91db886648",
      "max": 56,
      "min": 0,
      "orientation": "horizontal",
      "style": "IPY_MODEL_27fc7e3a8b0e4baead48aac71e9ddc9f",
      "value": 56
     }
    },
    "1de27f2e6c5e477c9bcc76c183075e74": {
     "model_module": "@jupyter-widgets/controls",
     "model_name": "FloatProgressModel",
     "state": {
      "_dom_classes": [],
      "_model_module": "@jupyter-widgets/controls",
      "_model_module_version": "1.5.0",
      "_model_name": "FloatProgressModel",
      "_view_count": null,
      "_view_module": "@jupyter-widgets/controls",
      "_view_module_version": "1.5.0",
      "_view_name": "ProgressView",
      "bar_style": "",
      "description": "Validation round: 100%",
      "description_tooltip": null,
      "layout": "IPY_MODEL_cb118d156db846f397c1adaa8c037b54",
      "max": 56,
      "min": 0,
      "orientation": "horizontal",
      "style": "IPY_MODEL_a3bce0961ff542058e0f12fff1e625a9",
      "value": 56
     }
    },
    "216ac01aced34d9e8a560cfbdda41bf4": {
     "model_module": "@jupyter-widgets/base",
     "model_name": "LayoutModel",
     "state": {
      "_model_module": "@jupyter-widgets/base",
      "_model_module_version": "1.2.0",
      "_model_name": "LayoutModel",
      "_view_count": null,
      "_view_module": "@jupyter-widgets/base",
      "_view_module_version": "1.2.0",
      "_view_name": "LayoutView",
      "align_content": null,
      "align_items": null,
      "align_self": null,
      "border": null,
      "bottom": null,
      "display": null,
      "flex": null,
      "flex_flow": null,
      "grid_area": null,
      "grid_auto_columns": null,
      "grid_auto_flow": null,
      "grid_auto_rows": null,
      "grid_column": null,
      "grid_gap": null,
      "grid_row": null,
      "grid_template_areas": null,
      "grid_template_columns": null,
      "grid_template_rows": null,
      "height": null,
      "justify_content": null,
      "justify_items": null,
      "left": null,
      "margin": null,
      "max_height": null,
      "max_width": null,
      "min_height": null,
      "min_width": null,
      "object_fit": null,
      "object_position": null,
      "order": null,
      "overflow": null,
      "overflow_x": null,
      "overflow_y": null,
      "padding": null,
      "right": null,
      "top": null,
      "visibility": null,
      "width": null
     }
    },
    "27fc7e3a8b0e4baead48aac71e9ddc9f": {
     "model_module": "@jupyter-widgets/controls",
     "model_name": "ProgressStyleModel",
     "state": {
      "_model_module": "@jupyter-widgets/controls",
      "_model_module_version": "1.5.0",
      "_model_name": "ProgressStyleModel",
      "_view_count": null,
      "_view_module": "@jupyter-widgets/base",
      "_view_module_version": "1.2.0",
      "_view_name": "StyleView",
      "bar_color": null,
      "description_width": "initial"
     }
    },
    "2fa0fe2dbd6c4c22a413e011508a8531": {
     "model_module": "@jupyter-widgets/controls",
     "model_name": "ProgressStyleModel",
     "state": {
      "_model_module": "@jupyter-widgets/controls",
      "_model_module_version": "1.5.0",
      "_model_name": "ProgressStyleModel",
      "_view_count": null,
      "_view_module": "@jupyter-widgets/base",
      "_view_module_version": "1.2.0",
      "_view_name": "StyleView",
      "bar_color": null,
      "description_width": "initial"
     }
    },
    "332dcf5f09a84680819c34c915290eee": {
     "model_module": "@jupyter-widgets/base",
     "model_name": "LayoutModel",
     "state": {
      "_model_module": "@jupyter-widgets/base",
      "_model_module_version": "1.2.0",
      "_model_name": "LayoutModel",
      "_view_count": null,
      "_view_module": "@jupyter-widgets/base",
      "_view_module_version": "1.2.0",
      "_view_name": "LayoutView",
      "align_content": null,
      "align_items": null,
      "align_self": null,
      "border": null,
      "bottom": null,
      "display": null,
      "flex": null,
      "flex_flow": null,
      "grid_area": null,
      "grid_auto_columns": null,
      "grid_auto_flow": null,
      "grid_auto_rows": null,
      "grid_column": null,
      "grid_gap": null,
      "grid_row": null,
      "grid_template_areas": null,
      "grid_template_columns": null,
      "grid_template_rows": null,
      "height": null,
      "justify_content": null,
      "justify_items": null,
      "left": null,
      "margin": null,
      "max_height": null,
      "max_width": null,
      "min_height": null,
      "min_width": null,
      "object_fit": null,
      "object_position": null,
      "order": null,
      "overflow": null,
      "overflow_x": null,
      "overflow_y": null,
      "padding": null,
      "right": null,
      "top": null,
      "visibility": null,
      "width": null
     }
    },
    "4296e3d50ad54310bf7e8cfb4c46a2e8": {
     "model_module": "@jupyter-widgets/base",
     "model_name": "LayoutModel",
     "state": {
      "_model_module": "@jupyter-widgets/base",
      "_model_module_version": "1.2.0",
      "_model_name": "LayoutModel",
      "_view_count": null,
      "_view_module": "@jupyter-widgets/base",
      "_view_module_version": "1.2.0",
      "_view_name": "LayoutView",
      "align_content": null,
      "align_items": null,
      "align_self": null,
      "border": null,
      "bottom": null,
      "display": null,
      "flex": null,
      "flex_flow": null,
      "grid_area": null,
      "grid_auto_columns": null,
      "grid_auto_flow": null,
      "grid_auto_rows": null,
      "grid_column": null,
      "grid_gap": null,
      "grid_row": null,
      "grid_template_areas": null,
      "grid_template_columns": null,
      "grid_template_rows": null,
      "height": null,
      "justify_content": null,
      "justify_items": null,
      "left": null,
      "margin": null,
      "max_height": null,
      "max_width": null,
      "min_height": null,
      "min_width": null,
      "object_fit": null,
      "object_position": null,
      "order": null,
      "overflow": null,
      "overflow_x": null,
      "overflow_y": null,
      "padding": null,
      "right": null,
      "top": null,
      "visibility": null,
      "width": null
     }
    },
    "450861212acd45ceac6229fad0b1cac1": {
     "model_module": "@jupyter-widgets/controls",
     "model_name": "ProgressStyleModel",
     "state": {
      "_model_module": "@jupyter-widgets/controls",
      "_model_module_version": "1.5.0",
      "_model_name": "ProgressStyleModel",
      "_view_count": null,
      "_view_module": "@jupyter-widgets/base",
      "_view_module_version": "1.2.0",
      "_view_name": "StyleView",
      "bar_color": null,
      "description_width": "initial"
     }
    },
    "53b101ceca5c4528be09197fcd7ae922": {
     "model_module": "@jupyter-widgets/controls",
     "model_name": "HTMLModel",
     "state": {
      "_dom_classes": [],
      "_model_module": "@jupyter-widgets/controls",
      "_model_module_version": "1.5.0",
      "_model_name": "HTMLModel",
      "_view_count": null,
      "_view_module": "@jupyter-widgets/controls",
      "_view_module_version": "1.5.0",
      "_view_name": "HTMLView",
      "description": "",
      "description_tooltip": null,
      "layout": "IPY_MODEL_90586a85d8fd4f91a2d73dc1a5d59521",
      "placeholder": "​",
      "style": "IPY_MODEL_c707c9fa3dc6439a870997e793d40004",
      "value": " 56/56 [00:12&lt;00:00,  4.61batch/s]"
     }
    },
    "5489cf5ebbac4e80aaddc5b120ed8c11": {
     "model_module": "@jupyter-widgets/base",
     "model_name": "LayoutModel",
     "state": {
      "_model_module": "@jupyter-widgets/base",
      "_model_module_version": "1.2.0",
      "_model_name": "LayoutModel",
      "_view_count": null,
      "_view_module": "@jupyter-widgets/base",
      "_view_module_version": "1.2.0",
      "_view_name": "LayoutView",
      "align_content": null,
      "align_items": null,
      "align_self": null,
      "border": null,
      "bottom": null,
      "display": null,
      "flex": null,
      "flex_flow": null,
      "grid_area": null,
      "grid_auto_columns": null,
      "grid_auto_flow": null,
      "grid_auto_rows": null,
      "grid_column": null,
      "grid_gap": null,
      "grid_row": null,
      "grid_template_areas": null,
      "grid_template_columns": null,
      "grid_template_rows": null,
      "height": null,
      "justify_content": null,
      "justify_items": null,
      "left": null,
      "margin": null,
      "max_height": null,
      "max_width": null,
      "min_height": null,
      "min_width": null,
      "object_fit": null,
      "object_position": null,
      "order": null,
      "overflow": null,
      "overflow_x": null,
      "overflow_y": null,
      "padding": null,
      "right": null,
      "top": null,
      "visibility": null,
      "width": null
     }
    },
    "5ed82c0e69eb4422abc85ec03a568c8f": {
     "model_module": "@jupyter-widgets/base",
     "model_name": "LayoutModel",
     "state": {
      "_model_module": "@jupyter-widgets/base",
      "_model_module_version": "1.2.0",
      "_model_name": "LayoutModel",
      "_view_count": null,
      "_view_module": "@jupyter-widgets/base",
      "_view_module_version": "1.2.0",
      "_view_name": "LayoutView",
      "align_content": null,
      "align_items": null,
      "align_self": null,
      "border": null,
      "bottom": null,
      "display": null,
      "flex": null,
      "flex_flow": null,
      "grid_area": null,
      "grid_auto_columns": null,
      "grid_auto_flow": null,
      "grid_auto_rows": null,
      "grid_column": null,
      "grid_gap": null,
      "grid_row": null,
      "grid_template_areas": null,
      "grid_template_columns": null,
      "grid_template_rows": null,
      "height": null,
      "justify_content": null,
      "justify_items": null,
      "left": null,
      "margin": null,
      "max_height": null,
      "max_width": null,
      "min_height": null,
      "min_width": null,
      "object_fit": null,
      "object_position": null,
      "order": null,
      "overflow": null,
      "overflow_x": null,
      "overflow_y": null,
      "padding": null,
      "right": null,
      "top": null,
      "visibility": null,
      "width": null
     }
    },
    "5f24468dcbf744fc9fa8bd1f9ef7e4b3": {
     "model_module": "@jupyter-widgets/controls",
     "model_name": "FloatProgressModel",
     "state": {
      "_dom_classes": [],
      "_model_module": "@jupyter-widgets/controls",
      "_model_module_version": "1.5.0",
      "_model_name": "FloatProgressModel",
      "_view_count": null,
      "_view_module": "@jupyter-widgets/controls",
      "_view_module_version": "1.5.0",
      "_view_name": "ProgressView",
      "bar_style": "",
      "description": "Validation round: 100%",
      "description_tooltip": null,
      "layout": "IPY_MODEL_b8b9e424e30144028d1edd43568f89db",
      "max": 56,
      "min": 0,
      "orientation": "horizontal",
      "style": "IPY_MODEL_2fa0fe2dbd6c4c22a413e011508a8531",
      "value": 56
     }
    },
    "687b8e75ef6f4cf2899055937ed952ee": {
     "model_module": "@jupyter-widgets/base",
     "model_name": "LayoutModel",
     "state": {
      "_model_module": "@jupyter-widgets/base",
      "_model_module_version": "1.2.0",
      "_model_name": "LayoutModel",
      "_view_count": null,
      "_view_module": "@jupyter-widgets/base",
      "_view_module_version": "1.2.0",
      "_view_name": "LayoutView",
      "align_content": null,
      "align_items": null,
      "align_self": null,
      "border": null,
      "bottom": null,
      "display": null,
      "flex": null,
      "flex_flow": null,
      "grid_area": null,
      "grid_auto_columns": null,
      "grid_auto_flow": null,
      "grid_auto_rows": null,
      "grid_column": null,
      "grid_gap": null,
      "grid_row": null,
      "grid_template_areas": null,
      "grid_template_columns": null,
      "grid_template_rows": null,
      "height": null,
      "justify_content": null,
      "justify_items": null,
      "left": null,
      "margin": null,
      "max_height": null,
      "max_width": null,
      "min_height": null,
      "min_width": null,
      "object_fit": null,
      "object_position": null,
      "order": null,
      "overflow": null,
      "overflow_x": null,
      "overflow_y": null,
      "padding": null,
      "right": null,
      "top": null,
      "visibility": null,
      "width": null
     }
    },
    "6d6db57c84e64017a1c1e92736a2c009": {
     "model_module": "@jupyter-widgets/controls",
     "model_name": "DescriptionStyleModel",
     "state": {
      "_model_module": "@jupyter-widgets/controls",
      "_model_module_version": "1.5.0",
      "_model_name": "DescriptionStyleModel",
      "_view_count": null,
      "_view_module": "@jupyter-widgets/base",
      "_view_module_version": "1.2.0",
      "_view_name": "StyleView",
      "description_width": ""
     }
    },
    "6ea8db273ddd46ce87c497d64dc858b5": {
     "model_module": "@jupyter-widgets/controls",
     "model_name": "ProgressStyleModel",
     "state": {
      "_model_module": "@jupyter-widgets/controls",
      "_model_module_version": "1.5.0",
      "_model_name": "ProgressStyleModel",
      "_view_count": null,
      "_view_module": "@jupyter-widgets/base",
      "_view_module_version": "1.2.0",
      "_view_name": "StyleView",
      "bar_color": null,
      "description_width": "initial"
     }
    },
    "7041278896ea43f084f83f913428aac0": {
     "model_module": "@jupyter-widgets/controls",
     "model_name": "HTMLModel",
     "state": {
      "_dom_classes": [],
      "_model_module": "@jupyter-widgets/controls",
      "_model_module_version": "1.5.0",
      "_model_name": "HTMLModel",
      "_view_count": null,
      "_view_module": "@jupyter-widgets/controls",
      "_view_module_version": "1.5.0",
      "_view_name": "HTMLView",
      "description": "",
      "description_tooltip": null,
      "layout": "IPY_MODEL_eae4ab6610f84b2083d401b22edb1d32",
      "placeholder": "​",
      "style": "IPY_MODEL_dbabd44016ac453fb7196d813b41c544",
      "value": " 56/56 [00:12&lt;00:00,  4.66batch/s]"
     }
    },
    "7076fe8cbf9e4d0096eb082844fb5abd": {
     "model_module": "@jupyter-widgets/base",
     "model_name": "LayoutModel",
     "state": {
      "_model_module": "@jupyter-widgets/base",
      "_model_module_version": "1.2.0",
      "_model_name": "LayoutModel",
      "_view_count": null,
      "_view_module": "@jupyter-widgets/base",
      "_view_module_version": "1.2.0",
      "_view_name": "LayoutView",
      "align_content": null,
      "align_items": null,
      "align_self": null,
      "border": null,
      "bottom": null,
      "display": null,
      "flex": null,
      "flex_flow": null,
      "grid_area": null,
      "grid_auto_columns": null,
      "grid_auto_flow": null,
      "grid_auto_rows": null,
      "grid_column": null,
      "grid_gap": null,
      "grid_row": null,
      "grid_template_areas": null,
      "grid_template_columns": null,
      "grid_template_rows": null,
      "height": null,
      "justify_content": null,
      "justify_items": null,
      "left": null,
      "margin": null,
      "max_height": null,
      "max_width": null,
      "min_height": null,
      "min_width": null,
      "object_fit": null,
      "object_position": null,
      "order": null,
      "overflow": null,
      "overflow_x": null,
      "overflow_y": null,
      "padding": null,
      "right": null,
      "top": null,
      "visibility": null,
      "width": null
     }
    },
    "7770bddc43e54b88981df4bcc2f82cd7": {
     "model_module": "@jupyter-widgets/controls",
     "model_name": "FloatProgressModel",
     "state": {
      "_dom_classes": [],
      "_model_module": "@jupyter-widgets/controls",
      "_model_module_version": "1.5.0",
      "_model_name": "FloatProgressModel",
      "_view_count": null,
      "_view_module": "@jupyter-widgets/controls",
      "_view_module_version": "1.5.0",
      "_view_name": "ProgressView",
      "bar_style": "",
      "description": "Validation round: 100%",
      "description_tooltip": null,
      "layout": "IPY_MODEL_e4bbdf1ef3ec415d81ace52d69b8e4e7",
      "max": 56,
      "min": 0,
      "orientation": "horizontal",
      "style": "IPY_MODEL_450861212acd45ceac6229fad0b1cac1",
      "value": 56
     }
    },
    "7da02bbccc2e42c7a154061861d91f00": {
     "model_module": "@jupyter-widgets/controls",
     "model_name": "DescriptionStyleModel",
     "state": {
      "_model_module": "@jupyter-widgets/controls",
      "_model_module_version": "1.5.0",
      "_model_name": "DescriptionStyleModel",
      "_view_count": null,
      "_view_module": "@jupyter-widgets/base",
      "_view_module_version": "1.2.0",
      "_view_name": "StyleView",
      "description_width": ""
     }
    },
    "8498c4591af14a568633eca2d4444f49": {
     "model_module": "@jupyter-widgets/controls",
     "model_name": "HBoxModel",
     "state": {
      "_dom_classes": [],
      "_model_module": "@jupyter-widgets/controls",
      "_model_module_version": "1.5.0",
      "_model_name": "HBoxModel",
      "_view_count": null,
      "_view_module": "@jupyter-widgets/controls",
      "_view_module_version": "1.5.0",
      "_view_name": "HBoxView",
      "box_style": "",
      "children": [
       "IPY_MODEL_5f24468dcbf744fc9fa8bd1f9ef7e4b3",
       "IPY_MODEL_7041278896ea43f084f83f913428aac0"
      ],
      "layout": "IPY_MODEL_7076fe8cbf9e4d0096eb082844fb5abd"
     }
    },
    "90586a85d8fd4f91a2d73dc1a5d59521": {
     "model_module": "@jupyter-widgets/base",
     "model_name": "LayoutModel",
     "state": {
      "_model_module": "@jupyter-widgets/base",
      "_model_module_version": "1.2.0",
      "_model_name": "LayoutModel",
      "_view_count": null,
      "_view_module": "@jupyter-widgets/base",
      "_view_module_version": "1.2.0",
      "_view_name": "LayoutView",
      "align_content": null,
      "align_items": null,
      "align_self": null,
      "border": null,
      "bottom": null,
      "display": null,
      "flex": null,
      "flex_flow": null,
      "grid_area": null,
      "grid_auto_columns": null,
      "grid_auto_flow": null,
      "grid_auto_rows": null,
      "grid_column": null,
      "grid_gap": null,
      "grid_row": null,
      "grid_template_areas": null,
      "grid_template_columns": null,
      "grid_template_rows": null,
      "height": null,
      "justify_content": null,
      "justify_items": null,
      "left": null,
      "margin": null,
      "max_height": null,
      "max_width": null,
      "min_height": null,
      "min_width": null,
      "object_fit": null,
      "object_position": null,
      "order": null,
      "overflow": null,
      "overflow_x": null,
      "overflow_y": null,
      "padding": null,
      "right": null,
      "top": null,
      "visibility": null,
      "width": null
     }
    },
    "99b33bb636d2469fb8f582bcb3ca6764": {
     "model_module": "@jupyter-widgets/controls",
     "model_name": "HBoxModel",
     "state": {
      "_dom_classes": [],
      "_model_module": "@jupyter-widgets/controls",
      "_model_module_version": "1.5.0",
      "_model_name": "HBoxModel",
      "_view_count": null,
      "_view_module": "@jupyter-widgets/controls",
      "_view_module_version": "1.5.0",
      "_view_name": "HBoxView",
      "box_style": "",
      "children": [
       "IPY_MODEL_05e8cd6604cc4b84a77e72ccece740c1",
       "IPY_MODEL_53b101ceca5c4528be09197fcd7ae922"
      ],
      "layout": "IPY_MODEL_d642941586064cf8b92dc72eadc7e0ed"
     }
    },
    "9d0a7fc2052848fd8d1c1e26e602ef40": {
     "model_module": "@jupyter-widgets/base",
     "model_name": "LayoutModel",
     "state": {
      "_model_module": "@jupyter-widgets/base",
      "_model_module_version": "1.2.0",
      "_model_name": "LayoutModel",
      "_view_count": null,
      "_view_module": "@jupyter-widgets/base",
      "_view_module_version": "1.2.0",
      "_view_name": "LayoutView",
      "align_content": null,
      "align_items": null,
      "align_self": null,
      "border": null,
      "bottom": null,
      "display": null,
      "flex": null,
      "flex_flow": null,
      "grid_area": null,
      "grid_auto_columns": null,
      "grid_auto_flow": null,
      "grid_auto_rows": null,
      "grid_column": null,
      "grid_gap": null,
      "grid_row": null,
      "grid_template_areas": null,
      "grid_template_columns": null,
      "grid_template_rows": null,
      "height": null,
      "justify_content": null,
      "justify_items": null,
      "left": null,
      "margin": null,
      "max_height": null,
      "max_width": null,
      "min_height": null,
      "min_width": null,
      "object_fit": null,
      "object_position": null,
      "order": null,
      "overflow": null,
      "overflow_x": null,
      "overflow_y": null,
      "padding": null,
      "right": null,
      "top": null,
      "visibility": null,
      "width": null
     }
    },
    "a030bcfaa3ba4282a448bb9a24a2e0a4": {
     "model_module": "@jupyter-widgets/controls",
     "model_name": "HBoxModel",
     "state": {
      "_dom_classes": [],
      "_model_module": "@jupyter-widgets/controls",
      "_model_module_version": "1.5.0",
      "_model_name": "HBoxModel",
      "_view_count": null,
      "_view_module": "@jupyter-widgets/controls",
      "_view_module_version": "1.5.0",
      "_view_name": "HBoxView",
      "box_style": "",
      "children": [
       "IPY_MODEL_0083a47cd2874709bee6bc29a8684e4d",
       "IPY_MODEL_a9db8bcdc658465db74685b957cbc72f"
      ],
      "layout": "IPY_MODEL_fc8457ee522b4ef3b24f217136831cb1"
     }
    },
    "a1a2575af4224eea91788afa155e3573": {
     "model_module": "@jupyter-widgets/controls",
     "model_name": "HBoxModel",
     "state": {
      "_dom_classes": [],
      "_model_module": "@jupyter-widgets/controls",
      "_model_module_version": "1.5.0",
      "_model_name": "HBoxModel",
      "_view_count": null,
      "_view_module": "@jupyter-widgets/controls",
      "_view_module_version": "1.5.0",
      "_view_name": "HBoxView",
      "box_style": "",
      "children": [
       "IPY_MODEL_1de27f2e6c5e477c9bcc76c183075e74",
       "IPY_MODEL_fb5416ffcf5645b78563b1f3751ca011"
      ],
      "layout": "IPY_MODEL_5489cf5ebbac4e80aaddc5b120ed8c11"
     }
    },
    "a1f68d33d50a4b75a81dc0c7f3536476": {
     "model_module": "@jupyter-widgets/controls",
     "model_name": "DescriptionStyleModel",
     "state": {
      "_model_module": "@jupyter-widgets/controls",
      "_model_module_version": "1.5.0",
      "_model_name": "DescriptionStyleModel",
      "_view_count": null,
      "_view_module": "@jupyter-widgets/base",
      "_view_module_version": "1.2.0",
      "_view_name": "StyleView",
      "description_width": ""
     }
    },
    "a3bce0961ff542058e0f12fff1e625a9": {
     "model_module": "@jupyter-widgets/controls",
     "model_name": "ProgressStyleModel",
     "state": {
      "_model_module": "@jupyter-widgets/controls",
      "_model_module_version": "1.5.0",
      "_model_name": "ProgressStyleModel",
      "_view_count": null,
      "_view_module": "@jupyter-widgets/base",
      "_view_module_version": "1.2.0",
      "_view_name": "StyleView",
      "bar_color": null,
      "description_width": "initial"
     }
    },
    "a6d3c29692474566809c63f8fa6b09c7": {
     "model_module": "@jupyter-widgets/base",
     "model_name": "LayoutModel",
     "state": {
      "_model_module": "@jupyter-widgets/base",
      "_model_module_version": "1.2.0",
      "_model_name": "LayoutModel",
      "_view_count": null,
      "_view_module": "@jupyter-widgets/base",
      "_view_module_version": "1.2.0",
      "_view_name": "LayoutView",
      "align_content": null,
      "align_items": null,
      "align_self": null,
      "border": null,
      "bottom": null,
      "display": null,
      "flex": null,
      "flex_flow": null,
      "grid_area": null,
      "grid_auto_columns": null,
      "grid_auto_flow": null,
      "grid_auto_rows": null,
      "grid_column": null,
      "grid_gap": null,
      "grid_row": null,
      "grid_template_areas": null,
      "grid_template_columns": null,
      "grid_template_rows": null,
      "height": null,
      "justify_content": null,
      "justify_items": null,
      "left": null,
      "margin": null,
      "max_height": null,
      "max_width": null,
      "min_height": null,
      "min_width": null,
      "object_fit": null,
      "object_position": null,
      "order": null,
      "overflow": null,
      "overflow_x": null,
      "overflow_y": null,
      "padding": null,
      "right": null,
      "top": null,
      "visibility": null,
      "width": null
     }
    },
    "a9db8bcdc658465db74685b957cbc72f": {
     "model_module": "@jupyter-widgets/controls",
     "model_name": "HTMLModel",
     "state": {
      "_dom_classes": [],
      "_model_module": "@jupyter-widgets/controls",
      "_model_module_version": "1.5.0",
      "_model_name": "HTMLModel",
      "_view_count": null,
      "_view_module": "@jupyter-widgets/controls",
      "_view_module_version": "1.5.0",
      "_view_name": "HTMLView",
      "description": "",
      "description_tooltip": null,
      "layout": "IPY_MODEL_100e19f8e3cc4fe2b261df7c4999236e",
      "placeholder": "​",
      "style": "IPY_MODEL_6d6db57c84e64017a1c1e92736a2c009",
      "value": " 5742/36368 [49:29&lt;4:15:51,  2.00img/s, loss (batch)=3.67e-5]"
     }
    },
    "aad2b3435a7d4d01bd0339cfad1e3f41": {
     "model_module": "@jupyter-widgets/controls",
     "model_name": "HTMLModel",
     "state": {
      "_dom_classes": [],
      "_model_module": "@jupyter-widgets/controls",
      "_model_module_version": "1.5.0",
      "_model_name": "HTMLModel",
      "_view_count": null,
      "_view_module": "@jupyter-widgets/controls",
      "_view_module_version": "1.5.0",
      "_view_name": "HTMLView",
      "description": "",
      "description_tooltip": null,
      "layout": "IPY_MODEL_4296e3d50ad54310bf7e8cfb4c46a2e8",
      "placeholder": "​",
      "style": "IPY_MODEL_a1f68d33d50a4b75a81dc0c7f3536476",
      "value": " 56/56 [00:12&lt;00:00,  4.65batch/s]"
     }
    },
    "b8b9e424e30144028d1edd43568f89db": {
     "model_module": "@jupyter-widgets/base",
     "model_name": "LayoutModel",
     "state": {
      "_model_module": "@jupyter-widgets/base",
      "_model_module_version": "1.2.0",
      "_model_name": "LayoutModel",
      "_view_count": null,
      "_view_module": "@jupyter-widgets/base",
      "_view_module_version": "1.2.0",
      "_view_name": "LayoutView",
      "align_content": null,
      "align_items": null,
      "align_self": null,
      "border": null,
      "bottom": null,
      "display": null,
      "flex": null,
      "flex_flow": null,
      "grid_area": null,
      "grid_auto_columns": null,
      "grid_auto_flow": null,
      "grid_auto_rows": null,
      "grid_column": null,
      "grid_gap": null,
      "grid_row": null,
      "grid_template_areas": null,
      "grid_template_columns": null,
      "grid_template_rows": null,
      "height": null,
      "justify_content": null,
      "justify_items": null,
      "left": null,
      "margin": null,
      "max_height": null,
      "max_width": null,
      "min_height": null,
      "min_width": null,
      "object_fit": null,
      "object_position": null,
      "order": null,
      "overflow": null,
      "overflow_x": null,
      "overflow_y": null,
      "padding": null,
      "right": null,
      "top": null,
      "visibility": null,
      "width": null
     }
    },
    "bb91038ea7144959967ba2de0fe098ea": {
     "model_module": "@jupyter-widgets/controls",
     "model_name": "HBoxModel",
     "state": {
      "_dom_classes": [],
      "_model_module": "@jupyter-widgets/controls",
      "_model_module_version": "1.5.0",
      "_model_name": "HBoxModel",
      "_view_count": null,
      "_view_module": "@jupyter-widgets/controls",
      "_view_module_version": "1.5.0",
      "_view_name": "HBoxView",
      "box_style": "",
      "children": [
       "IPY_MODEL_070fca782d8e47d2b63e52c4f1386115",
       "IPY_MODEL_f7b4d392c1d0453caf99a33b0c518dfb"
      ],
      "layout": "IPY_MODEL_5ed82c0e69eb4422abc85ec03a568c8f"
     }
    },
    "bde73b616d87405b8e5b9367c76721e0": {
     "model_module": "@jupyter-widgets/base",
     "model_name": "LayoutModel",
     "state": {
      "_model_module": "@jupyter-widgets/base",
      "_model_module_version": "1.2.0",
      "_model_name": "LayoutModel",
      "_view_count": null,
      "_view_module": "@jupyter-widgets/base",
      "_view_module_version": "1.2.0",
      "_view_name": "LayoutView",
      "align_content": null,
      "align_items": null,
      "align_self": null,
      "border": null,
      "bottom": null,
      "display": null,
      "flex": null,
      "flex_flow": null,
      "grid_area": null,
      "grid_auto_columns": null,
      "grid_auto_flow": null,
      "grid_auto_rows": null,
      "grid_column": null,
      "grid_gap": null,
      "grid_row": null,
      "grid_template_areas": null,
      "grid_template_columns": null,
      "grid_template_rows": null,
      "height": null,
      "justify_content": null,
      "justify_items": null,
      "left": null,
      "margin": null,
      "max_height": null,
      "max_width": null,
      "min_height": null,
      "min_width": null,
      "object_fit": null,
      "object_position": null,
      "order": null,
      "overflow": null,
      "overflow_x": null,
      "overflow_y": null,
      "padding": null,
      "right": null,
      "top": null,
      "visibility": null,
      "width": null
     }
    },
    "c1a519df8eee4bafaa148d27d66a16fc": {
     "model_module": "@jupyter-widgets/controls",
     "model_name": "HTMLModel",
     "state": {
      "_dom_classes": [],
      "_model_module": "@jupyter-widgets/controls",
      "_model_module_version": "1.5.0",
      "_model_name": "HTMLModel",
      "_view_count": null,
      "_view_module": "@jupyter-widgets/controls",
      "_view_module_version": "1.5.0",
      "_view_name": "HTMLView",
      "description": "",
      "description_tooltip": null,
      "layout": "IPY_MODEL_687b8e75ef6f4cf2899055937ed952ee",
      "placeholder": "​",
      "style": "IPY_MODEL_7da02bbccc2e42c7a154061861d91f00",
      "value": " 56/56 [00:12&lt;00:00,  4.72batch/s]"
     }
    },
    "c707c9fa3dc6439a870997e793d40004": {
     "model_module": "@jupyter-widgets/controls",
     "model_name": "DescriptionStyleModel",
     "state": {
      "_model_module": "@jupyter-widgets/controls",
      "_model_module_version": "1.5.0",
      "_model_name": "DescriptionStyleModel",
      "_view_count": null,
      "_view_module": "@jupyter-widgets/base",
      "_view_module_version": "1.2.0",
      "_view_name": "StyleView",
      "description_width": ""
     }
    },
    "c96de00d68304e268f90c6c7623587af": {
     "model_module": "@jupyter-widgets/controls",
     "model_name": "ProgressStyleModel",
     "state": {
      "_model_module": "@jupyter-widgets/controls",
      "_model_module_version": "1.5.0",
      "_model_name": "ProgressStyleModel",
      "_view_count": null,
      "_view_module": "@jupyter-widgets/base",
      "_view_module_version": "1.2.0",
      "_view_name": "StyleView",
      "bar_color": null,
      "description_width": "initial"
     }
    },
    "cb118d156db846f397c1adaa8c037b54": {
     "model_module": "@jupyter-widgets/base",
     "model_name": "LayoutModel",
     "state": {
      "_model_module": "@jupyter-widgets/base",
      "_model_module_version": "1.2.0",
      "_model_name": "LayoutModel",
      "_view_count": null,
      "_view_module": "@jupyter-widgets/base",
      "_view_module_version": "1.2.0",
      "_view_name": "LayoutView",
      "align_content": null,
      "align_items": null,
      "align_self": null,
      "border": null,
      "bottom": null,
      "display": null,
      "flex": null,
      "flex_flow": null,
      "grid_area": null,
      "grid_auto_columns": null,
      "grid_auto_flow": null,
      "grid_auto_rows": null,
      "grid_column": null,
      "grid_gap": null,
      "grid_row": null,
      "grid_template_areas": null,
      "grid_template_columns": null,
      "grid_template_rows": null,
      "height": null,
      "justify_content": null,
      "justify_items": null,
      "left": null,
      "margin": null,
      "max_height": null,
      "max_width": null,
      "min_height": null,
      "min_width": null,
      "object_fit": null,
      "object_position": null,
      "order": null,
      "overflow": null,
      "overflow_x": null,
      "overflow_y": null,
      "padding": null,
      "right": null,
      "top": null,
      "visibility": null,
      "width": null
     }
    },
    "ce9e061443bf4cdbab97e03e7ac98e16": {
     "model_module": "@jupyter-widgets/controls",
     "model_name": "HBoxModel",
     "state": {
      "_dom_classes": [],
      "_model_module": "@jupyter-widgets/controls",
      "_model_module_version": "1.5.0",
      "_model_name": "HBoxModel",
      "_view_count": null,
      "_view_module": "@jupyter-widgets/controls",
      "_view_module_version": "1.5.0",
      "_view_name": "HBoxView",
      "box_style": "",
      "children": [
       "IPY_MODEL_7770bddc43e54b88981df4bcc2f82cd7",
       "IPY_MODEL_aad2b3435a7d4d01bd0339cfad1e3f41"
      ],
      "layout": "IPY_MODEL_332dcf5f09a84680819c34c915290eee"
     }
    },
    "cf6e4ba4bd0f49f084f5cf27018a1bcb": {
     "model_module": "@jupyter-widgets/controls",
     "model_name": "HBoxModel",
     "state": {
      "_dom_classes": [],
      "_model_module": "@jupyter-widgets/controls",
      "_model_module_version": "1.5.0",
      "_model_name": "HBoxModel",
      "_view_count": null,
      "_view_module": "@jupyter-widgets/controls",
      "_view_module_version": "1.5.0",
      "_view_name": "HBoxView",
      "box_style": "",
      "children": [
       "IPY_MODEL_17077aa697be4b9793f2060554a97764",
       "IPY_MODEL_c1a519df8eee4bafaa148d27d66a16fc"
      ],
      "layout": "IPY_MODEL_0948aa01c3f645298d2c0df2b6061ded"
     }
    },
    "d642941586064cf8b92dc72eadc7e0ed": {
     "model_module": "@jupyter-widgets/base",
     "model_name": "LayoutModel",
     "state": {
      "_model_module": "@jupyter-widgets/base",
      "_model_module_version": "1.2.0",
      "_model_name": "LayoutModel",
      "_view_count": null,
      "_view_module": "@jupyter-widgets/base",
      "_view_module_version": "1.2.0",
      "_view_name": "LayoutView",
      "align_content": null,
      "align_items": null,
      "align_self": null,
      "border": null,
      "bottom": null,
      "display": null,
      "flex": null,
      "flex_flow": null,
      "grid_area": null,
      "grid_auto_columns": null,
      "grid_auto_flow": null,
      "grid_auto_rows": null,
      "grid_column": null,
      "grid_gap": null,
      "grid_row": null,
      "grid_template_areas": null,
      "grid_template_columns": null,
      "grid_template_rows": null,
      "height": null,
      "justify_content": null,
      "justify_items": null,
      "left": null,
      "margin": null,
      "max_height": null,
      "max_width": null,
      "min_height": null,
      "min_width": null,
      "object_fit": null,
      "object_position": null,
      "order": null,
      "overflow": null,
      "overflow_x": null,
      "overflow_y": null,
      "padding": null,
      "right": null,
      "top": null,
      "visibility": null,
      "width": null
     }
    },
    "dbabd44016ac453fb7196d813b41c544": {
     "model_module": "@jupyter-widgets/controls",
     "model_name": "DescriptionStyleModel",
     "state": {
      "_model_module": "@jupyter-widgets/controls",
      "_model_module_version": "1.5.0",
      "_model_name": "DescriptionStyleModel",
      "_view_count": null,
      "_view_module": "@jupyter-widgets/base",
      "_view_module_version": "1.2.0",
      "_view_name": "StyleView",
      "description_width": ""
     }
    },
    "e4bbdf1ef3ec415d81ace52d69b8e4e7": {
     "model_module": "@jupyter-widgets/base",
     "model_name": "LayoutModel",
     "state": {
      "_model_module": "@jupyter-widgets/base",
      "_model_module_version": "1.2.0",
      "_model_name": "LayoutModel",
      "_view_count": null,
      "_view_module": "@jupyter-widgets/base",
      "_view_module_version": "1.2.0",
      "_view_name": "LayoutView",
      "align_content": null,
      "align_items": null,
      "align_self": null,
      "border": null,
      "bottom": null,
      "display": null,
      "flex": null,
      "flex_flow": null,
      "grid_area": null,
      "grid_auto_columns": null,
      "grid_auto_flow": null,
      "grid_auto_rows": null,
      "grid_column": null,
      "grid_gap": null,
      "grid_row": null,
      "grid_template_areas": null,
      "grid_template_columns": null,
      "grid_template_rows": null,
      "height": null,
      "justify_content": null,
      "justify_items": null,
      "left": null,
      "margin": null,
      "max_height": null,
      "max_width": null,
      "min_height": null,
      "min_width": null,
      "object_fit": null,
      "object_position": null,
      "order": null,
      "overflow": null,
      "overflow_x": null,
      "overflow_y": null,
      "padding": null,
      "right": null,
      "top": null,
      "visibility": null,
      "width": null
     }
    },
    "eae4ab6610f84b2083d401b22edb1d32": {
     "model_module": "@jupyter-widgets/base",
     "model_name": "LayoutModel",
     "state": {
      "_model_module": "@jupyter-widgets/base",
      "_model_module_version": "1.2.0",
      "_model_name": "LayoutModel",
      "_view_count": null,
      "_view_module": "@jupyter-widgets/base",
      "_view_module_version": "1.2.0",
      "_view_name": "LayoutView",
      "align_content": null,
      "align_items": null,
      "align_self": null,
      "border": null,
      "bottom": null,
      "display": null,
      "flex": null,
      "flex_flow": null,
      "grid_area": null,
      "grid_auto_columns": null,
      "grid_auto_flow": null,
      "grid_auto_rows": null,
      "grid_column": null,
      "grid_gap": null,
      "grid_row": null,
      "grid_template_areas": null,
      "grid_template_columns": null,
      "grid_template_rows": null,
      "height": null,
      "justify_content": null,
      "justify_items": null,
      "left": null,
      "margin": null,
      "max_height": null,
      "max_width": null,
      "min_height": null,
      "min_width": null,
      "object_fit": null,
      "object_position": null,
      "order": null,
      "overflow": null,
      "overflow_x": null,
      "overflow_y": null,
      "padding": null,
      "right": null,
      "top": null,
      "visibility": null,
      "width": null
     }
    },
    "ecd18db867eb471fa274de91db886648": {
     "model_module": "@jupyter-widgets/base",
     "model_name": "LayoutModel",
     "state": {
      "_model_module": "@jupyter-widgets/base",
      "_model_module_version": "1.2.0",
      "_model_name": "LayoutModel",
      "_view_count": null,
      "_view_module": "@jupyter-widgets/base",
      "_view_module_version": "1.2.0",
      "_view_name": "LayoutView",
      "align_content": null,
      "align_items": null,
      "align_self": null,
      "border": null,
      "bottom": null,
      "display": null,
      "flex": null,
      "flex_flow": null,
      "grid_area": null,
      "grid_auto_columns": null,
      "grid_auto_flow": null,
      "grid_auto_rows": null,
      "grid_column": null,
      "grid_gap": null,
      "grid_row": null,
      "grid_template_areas": null,
      "grid_template_columns": null,
      "grid_template_rows": null,
      "height": null,
      "justify_content": null,
      "justify_items": null,
      "left": null,
      "margin": null,
      "max_height": null,
      "max_width": null,
      "min_height": null,
      "min_width": null,
      "object_fit": null,
      "object_position": null,
      "order": null,
      "overflow": null,
      "overflow_x": null,
      "overflow_y": null,
      "padding": null,
      "right": null,
      "top": null,
      "visibility": null,
      "width": null
     }
    },
    "ef76d03602594fe4b45756e76a43762c": {
     "model_module": "@jupyter-widgets/controls",
     "model_name": "DescriptionStyleModel",
     "state": {
      "_model_module": "@jupyter-widgets/controls",
      "_model_module_version": "1.5.0",
      "_model_name": "DescriptionStyleModel",
      "_view_count": null,
      "_view_module": "@jupyter-widgets/base",
      "_view_module_version": "1.2.0",
      "_view_name": "StyleView",
      "description_width": ""
     }
    },
    "efe96fc2518645b7990f58d623047b6a": {
     "model_module": "@jupyter-widgets/controls",
     "model_name": "DescriptionStyleModel",
     "state": {
      "_model_module": "@jupyter-widgets/controls",
      "_model_module_version": "1.5.0",
      "_model_name": "DescriptionStyleModel",
      "_view_count": null,
      "_view_module": "@jupyter-widgets/base",
      "_view_module_version": "1.2.0",
      "_view_name": "StyleView",
      "description_width": ""
     }
    },
    "f7b4d392c1d0453caf99a33b0c518dfb": {
     "model_module": "@jupyter-widgets/controls",
     "model_name": "HTMLModel",
     "state": {
      "_dom_classes": [],
      "_model_module": "@jupyter-widgets/controls",
      "_model_module_version": "1.5.0",
      "_model_name": "HTMLModel",
      "_view_count": null,
      "_view_module": "@jupyter-widgets/controls",
      "_view_module_version": "1.5.0",
      "_view_name": "HTMLView",
      "description": "",
      "description_tooltip": null,
      "layout": "IPY_MODEL_bde73b616d87405b8e5b9367c76721e0",
      "placeholder": "​",
      "style": "IPY_MODEL_efe96fc2518645b7990f58d623047b6a",
      "value": " 56/56 [00:12&lt;00:00,  4.64batch/s]"
     }
    },
    "fb5416ffcf5645b78563b1f3751ca011": {
     "model_module": "@jupyter-widgets/controls",
     "model_name": "HTMLModel",
     "state": {
      "_dom_classes": [],
      "_model_module": "@jupyter-widgets/controls",
      "_model_module_version": "1.5.0",
      "_model_name": "HTMLModel",
      "_view_count": null,
      "_view_module": "@jupyter-widgets/controls",
      "_view_module_version": "1.5.0",
      "_view_name": "HTMLView",
      "description": "",
      "description_tooltip": null,
      "layout": "IPY_MODEL_216ac01aced34d9e8a560cfbdda41bf4",
      "placeholder": "​",
      "style": "IPY_MODEL_ef76d03602594fe4b45756e76a43762c",
      "value": " 56/56 [00:12&lt;00:00,  4.63batch/s]"
     }
    },
    "fc8457ee522b4ef3b24f217136831cb1": {
     "model_module": "@jupyter-widgets/base",
     "model_name": "LayoutModel",
     "state": {
      "_model_module": "@jupyter-widgets/base",
      "_model_module_version": "1.2.0",
      "_model_name": "LayoutModel",
      "_view_count": null,
      "_view_module": "@jupyter-widgets/base",
      "_view_module_version": "1.2.0",
      "_view_name": "LayoutView",
      "align_content": null,
      "align_items": null,
      "align_self": null,
      "border": null,
      "bottom": null,
      "display": null,
      "flex": null,
      "flex_flow": null,
      "grid_area": null,
      "grid_auto_columns": null,
      "grid_auto_flow": null,
      "grid_auto_rows": null,
      "grid_column": null,
      "grid_gap": null,
      "grid_row": null,
      "grid_template_areas": null,
      "grid_template_columns": null,
      "grid_template_rows": null,
      "height": null,
      "justify_content": null,
      "justify_items": null,
      "left": null,
      "margin": null,
      "max_height": null,
      "max_width": null,
      "min_height": null,
      "min_width": null,
      "object_fit": null,
      "object_position": null,
      "order": null,
      "overflow": null,
      "overflow_x": null,
      "overflow_y": null,
      "padding": null,
      "right": null,
      "top": null,
      "visibility": null,
      "width": null
     }
    },
    "ffcd18dbbd134d4eafdd271d34da8912": {
     "model_module": "@jupyter-widgets/base",
     "model_name": "LayoutModel",
     "state": {
      "_model_module": "@jupyter-widgets/base",
      "_model_module_version": "1.2.0",
      "_model_name": "LayoutModel",
      "_view_count": null,
      "_view_module": "@jupyter-widgets/base",
      "_view_module_version": "1.2.0",
      "_view_name": "LayoutView",
      "align_content": null,
      "align_items": null,
      "align_self": null,
      "border": null,
      "bottom": null,
      "display": null,
      "flex": null,
      "flex_flow": null,
      "grid_area": null,
      "grid_auto_columns": null,
      "grid_auto_flow": null,
      "grid_auto_rows": null,
      "grid_column": null,
      "grid_gap": null,
      "grid_row": null,
      "grid_template_areas": null,
      "grid_template_columns": null,
      "grid_template_rows": null,
      "height": null,
      "justify_content": null,
      "justify_items": null,
      "left": null,
      "margin": null,
      "max_height": null,
      "max_width": null,
      "min_height": null,
      "min_width": null,
      "object_fit": null,
      "object_position": null,
      "order": null,
      "overflow": null,
      "overflow_x": null,
      "overflow_y": null,
      "padding": null,
      "right": null,
      "top": null,
      "visibility": null,
      "width": null
     }
    }
   }
  }
 },
 "nbformat": 4,
 "nbformat_minor": 5
}
